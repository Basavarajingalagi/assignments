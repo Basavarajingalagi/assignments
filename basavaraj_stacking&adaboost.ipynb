{
  "nbformat": 4,
  "nbformat_minor": 0,
  "metadata": {
    "colab": {
      "name": "basavaraj.stacking&adaboost.ipynb",
      "version": "0.3.2",
      "provenance": [],
      "collapsed_sections": []
    },
    "kernelspec": {
      "name": "python3",
      "display_name": "Python 3"
    }
  },
  "cells": [
    {
      "metadata": {
        "id": "HocXKtC3SYWy",
        "colab_type": "text"
      },
      "cell_type": "markdown",
      "source": [
        "# STACKING"
      ]
    },
    {
      "metadata": {
        "id": "bUT-hQSgsAst",
        "colab_type": "code",
        "colab": {}
      },
      "cell_type": "code",
      "source": [
        "import itertools\n",
        "import numpy as np\n",
        "import seaborn as sns\n",
        "import matplotlib.pyplot as plt\n",
        "import matplotlib.gridspec as gridspec\n",
        "\n",
        "from sklearn import datasets\n",
        "\n",
        "from sklearn.linear_model import LogisticRegression\n",
        "from sklearn.neighbors import KNeighborsClassifier\n",
        "from sklearn.naive_bayes import GaussianNB \n",
        "from sklearn.ensemble import RandomForestClassifier\n",
        "#from sklearn.tree import DecisionTreeClassifier\n",
        "\n",
        "from mlxtend.classifier import StackingClassifier\n",
        "\n",
        "from sklearn.model_selection import cross_val_score, train_test_split\n",
        "\n",
        "from mlxtend.plotting import plot_learning_curves\n",
        "from mlxtend.plotting import plot_decision_regions"
      ],
      "execution_count": 0,
      "outputs": []
    },
    {
      "metadata": {
        "id": "UYahjyA4sl8q",
        "colab_type": "code",
        "outputId": "fa5493e8-c4de-4269-97c5-7f9fbbbe8e6b",
        "colab": {
          "base_uri": "https://localhost:8080/",
          "height": 215
        }
      },
      "cell_type": "code",
      "source": [
        "import pandas as pd\n",
        "credit = pd.read_csv('credit.csv')\n",
        "credit.head()"
      ],
      "execution_count": 39,
      "outputs": [
        {
          "output_type": "execute_result",
          "data": {
            "text/html": [
              "<div>\n",
              "<style scoped>\n",
              "    .dataframe tbody tr th:only-of-type {\n",
              "        vertical-align: middle;\n",
              "    }\n",
              "\n",
              "    .dataframe tbody tr th {\n",
              "        vertical-align: top;\n",
              "    }\n",
              "\n",
              "    .dataframe thead th {\n",
              "        text-align: right;\n",
              "    }\n",
              "</style>\n",
              "<table border=\"1\" class=\"dataframe\">\n",
              "  <thead>\n",
              "    <tr style=\"text-align: right;\">\n",
              "      <th></th>\n",
              "      <th>checking_balance</th>\n",
              "      <th>months_loan_duration</th>\n",
              "      <th>credit_history</th>\n",
              "      <th>purpose</th>\n",
              "      <th>amount</th>\n",
              "      <th>savings_balance</th>\n",
              "      <th>employment_duration</th>\n",
              "      <th>percent_of_income</th>\n",
              "      <th>years_at_residence</th>\n",
              "      <th>age</th>\n",
              "      <th>other_credit</th>\n",
              "      <th>housing</th>\n",
              "      <th>existing_loans_count</th>\n",
              "      <th>job</th>\n",
              "      <th>dependents</th>\n",
              "      <th>phone</th>\n",
              "      <th>default</th>\n",
              "    </tr>\n",
              "  </thead>\n",
              "  <tbody>\n",
              "    <tr>\n",
              "      <th>0</th>\n",
              "      <td>&lt; 0 DM</td>\n",
              "      <td>6</td>\n",
              "      <td>critical</td>\n",
              "      <td>furniture/appliances</td>\n",
              "      <td>1169</td>\n",
              "      <td>unknown</td>\n",
              "      <td>&gt; 7 years</td>\n",
              "      <td>4</td>\n",
              "      <td>4</td>\n",
              "      <td>67</td>\n",
              "      <td>none</td>\n",
              "      <td>own</td>\n",
              "      <td>2</td>\n",
              "      <td>skilled</td>\n",
              "      <td>1</td>\n",
              "      <td>yes</td>\n",
              "      <td>no</td>\n",
              "    </tr>\n",
              "    <tr>\n",
              "      <th>1</th>\n",
              "      <td>1 - 200 DM</td>\n",
              "      <td>48</td>\n",
              "      <td>good</td>\n",
              "      <td>furniture/appliances</td>\n",
              "      <td>5951</td>\n",
              "      <td>&lt; 100 DM</td>\n",
              "      <td>1 - 4 years</td>\n",
              "      <td>2</td>\n",
              "      <td>2</td>\n",
              "      <td>22</td>\n",
              "      <td>none</td>\n",
              "      <td>own</td>\n",
              "      <td>1</td>\n",
              "      <td>skilled</td>\n",
              "      <td>1</td>\n",
              "      <td>no</td>\n",
              "      <td>yes</td>\n",
              "    </tr>\n",
              "    <tr>\n",
              "      <th>2</th>\n",
              "      <td>unknown</td>\n",
              "      <td>12</td>\n",
              "      <td>critical</td>\n",
              "      <td>education</td>\n",
              "      <td>2096</td>\n",
              "      <td>&lt; 100 DM</td>\n",
              "      <td>4 - 7 years</td>\n",
              "      <td>2</td>\n",
              "      <td>3</td>\n",
              "      <td>49</td>\n",
              "      <td>none</td>\n",
              "      <td>own</td>\n",
              "      <td>1</td>\n",
              "      <td>unskilled</td>\n",
              "      <td>2</td>\n",
              "      <td>no</td>\n",
              "      <td>no</td>\n",
              "    </tr>\n",
              "    <tr>\n",
              "      <th>3</th>\n",
              "      <td>&lt; 0 DM</td>\n",
              "      <td>42</td>\n",
              "      <td>good</td>\n",
              "      <td>furniture/appliances</td>\n",
              "      <td>7882</td>\n",
              "      <td>&lt; 100 DM</td>\n",
              "      <td>4 - 7 years</td>\n",
              "      <td>2</td>\n",
              "      <td>4</td>\n",
              "      <td>45</td>\n",
              "      <td>none</td>\n",
              "      <td>other</td>\n",
              "      <td>1</td>\n",
              "      <td>skilled</td>\n",
              "      <td>2</td>\n",
              "      <td>no</td>\n",
              "      <td>no</td>\n",
              "    </tr>\n",
              "    <tr>\n",
              "      <th>4</th>\n",
              "      <td>&lt; 0 DM</td>\n",
              "      <td>24</td>\n",
              "      <td>poor</td>\n",
              "      <td>car</td>\n",
              "      <td>4870</td>\n",
              "      <td>&lt; 100 DM</td>\n",
              "      <td>1 - 4 years</td>\n",
              "      <td>3</td>\n",
              "      <td>4</td>\n",
              "      <td>53</td>\n",
              "      <td>none</td>\n",
              "      <td>other</td>\n",
              "      <td>2</td>\n",
              "      <td>skilled</td>\n",
              "      <td>2</td>\n",
              "      <td>no</td>\n",
              "      <td>yes</td>\n",
              "    </tr>\n",
              "  </tbody>\n",
              "</table>\n",
              "</div>"
            ],
            "text/plain": [
              "  checking_balance  months_loan_duration credit_history               purpose  \\\n",
              "0           < 0 DM                     6       critical  furniture/appliances   \n",
              "1       1 - 200 DM                    48           good  furniture/appliances   \n",
              "2          unknown                    12       critical             education   \n",
              "3           < 0 DM                    42           good  furniture/appliances   \n",
              "4           < 0 DM                    24           poor                   car   \n",
              "\n",
              "   amount savings_balance employment_duration  percent_of_income  \\\n",
              "0    1169         unknown           > 7 years                  4   \n",
              "1    5951        < 100 DM         1 - 4 years                  2   \n",
              "2    2096        < 100 DM         4 - 7 years                  2   \n",
              "3    7882        < 100 DM         4 - 7 years                  2   \n",
              "4    4870        < 100 DM         1 - 4 years                  3   \n",
              "\n",
              "   years_at_residence  age other_credit housing  existing_loans_count  \\\n",
              "0                   4   67         none     own                     2   \n",
              "1                   2   22         none     own                     1   \n",
              "2                   3   49         none     own                     1   \n",
              "3                   4   45         none   other                     1   \n",
              "4                   4   53         none   other                     2   \n",
              "\n",
              "         job  dependents phone default  \n",
              "0    skilled           1   yes      no  \n",
              "1    skilled           1    no     yes  \n",
              "2  unskilled           2    no      no  \n",
              "3    skilled           2    no      no  \n",
              "4    skilled           2    no     yes  "
            ]
          },
          "metadata": {
            "tags": []
          },
          "execution_count": 39
        }
      ]
    },
    {
      "metadata": {
        "id": "5snj4NQis9Hz",
        "colab_type": "code",
        "outputId": "32a257ce-c436-4d03-d679-0f0bd6b668b3",
        "colab": {
          "base_uri": "https://localhost:8080/",
          "height": 386
        }
      },
      "cell_type": "code",
      "source": [
        "credit.info()"
      ],
      "execution_count": 40,
      "outputs": [
        {
          "output_type": "stream",
          "text": [
            "<class 'pandas.core.frame.DataFrame'>\n",
            "RangeIndex: 1000 entries, 0 to 999\n",
            "Data columns (total 17 columns):\n",
            "checking_balance        1000 non-null object\n",
            "months_loan_duration    1000 non-null int64\n",
            "credit_history          1000 non-null object\n",
            "purpose                 1000 non-null object\n",
            "amount                  1000 non-null int64\n",
            "savings_balance         1000 non-null object\n",
            "employment_duration     1000 non-null object\n",
            "percent_of_income       1000 non-null int64\n",
            "years_at_residence      1000 non-null int64\n",
            "age                     1000 non-null int64\n",
            "other_credit            1000 non-null object\n",
            "housing                 1000 non-null object\n",
            "existing_loans_count    1000 non-null int64\n",
            "job                     1000 non-null object\n",
            "dependents              1000 non-null int64\n",
            "phone                   1000 non-null object\n",
            "default                 1000 non-null object\n",
            "dtypes: int64(7), object(10)\n",
            "memory usage: 132.9+ KB\n"
          ],
          "name": "stdout"
        }
      ]
    },
    {
      "metadata": {
        "id": "-z7osBP8tBhi",
        "colab_type": "code",
        "outputId": "3f619d70-1a34-4f36-a0d9-db24f911f6af",
        "colab": {
          "base_uri": "https://localhost:8080/",
          "height": 304
        }
      },
      "cell_type": "code",
      "source": [
        "credit.describe()"
      ],
      "execution_count": 41,
      "outputs": [
        {
          "output_type": "execute_result",
          "data": {
            "text/html": [
              "<div>\n",
              "<style scoped>\n",
              "    .dataframe tbody tr th:only-of-type {\n",
              "        vertical-align: middle;\n",
              "    }\n",
              "\n",
              "    .dataframe tbody tr th {\n",
              "        vertical-align: top;\n",
              "    }\n",
              "\n",
              "    .dataframe thead th {\n",
              "        text-align: right;\n",
              "    }\n",
              "</style>\n",
              "<table border=\"1\" class=\"dataframe\">\n",
              "  <thead>\n",
              "    <tr style=\"text-align: right;\">\n",
              "      <th></th>\n",
              "      <th>months_loan_duration</th>\n",
              "      <th>amount</th>\n",
              "      <th>percent_of_income</th>\n",
              "      <th>years_at_residence</th>\n",
              "      <th>age</th>\n",
              "      <th>existing_loans_count</th>\n",
              "      <th>dependents</th>\n",
              "    </tr>\n",
              "  </thead>\n",
              "  <tbody>\n",
              "    <tr>\n",
              "      <th>count</th>\n",
              "      <td>1000.000000</td>\n",
              "      <td>1000.000000</td>\n",
              "      <td>1000.000000</td>\n",
              "      <td>1000.000000</td>\n",
              "      <td>1000.000000</td>\n",
              "      <td>1000.000000</td>\n",
              "      <td>1000.000000</td>\n",
              "    </tr>\n",
              "    <tr>\n",
              "      <th>mean</th>\n",
              "      <td>20.903000</td>\n",
              "      <td>3271.258000</td>\n",
              "      <td>2.973000</td>\n",
              "      <td>2.845000</td>\n",
              "      <td>35.546000</td>\n",
              "      <td>1.407000</td>\n",
              "      <td>1.155000</td>\n",
              "    </tr>\n",
              "    <tr>\n",
              "      <th>std</th>\n",
              "      <td>12.058814</td>\n",
              "      <td>2822.736876</td>\n",
              "      <td>1.118715</td>\n",
              "      <td>1.103718</td>\n",
              "      <td>11.375469</td>\n",
              "      <td>0.577654</td>\n",
              "      <td>0.362086</td>\n",
              "    </tr>\n",
              "    <tr>\n",
              "      <th>min</th>\n",
              "      <td>4.000000</td>\n",
              "      <td>250.000000</td>\n",
              "      <td>1.000000</td>\n",
              "      <td>1.000000</td>\n",
              "      <td>19.000000</td>\n",
              "      <td>1.000000</td>\n",
              "      <td>1.000000</td>\n",
              "    </tr>\n",
              "    <tr>\n",
              "      <th>25%</th>\n",
              "      <td>12.000000</td>\n",
              "      <td>1365.500000</td>\n",
              "      <td>2.000000</td>\n",
              "      <td>2.000000</td>\n",
              "      <td>27.000000</td>\n",
              "      <td>1.000000</td>\n",
              "      <td>1.000000</td>\n",
              "    </tr>\n",
              "    <tr>\n",
              "      <th>50%</th>\n",
              "      <td>18.000000</td>\n",
              "      <td>2319.500000</td>\n",
              "      <td>3.000000</td>\n",
              "      <td>3.000000</td>\n",
              "      <td>33.000000</td>\n",
              "      <td>1.000000</td>\n",
              "      <td>1.000000</td>\n",
              "    </tr>\n",
              "    <tr>\n",
              "      <th>75%</th>\n",
              "      <td>24.000000</td>\n",
              "      <td>3972.250000</td>\n",
              "      <td>4.000000</td>\n",
              "      <td>4.000000</td>\n",
              "      <td>42.000000</td>\n",
              "      <td>2.000000</td>\n",
              "      <td>1.000000</td>\n",
              "    </tr>\n",
              "    <tr>\n",
              "      <th>max</th>\n",
              "      <td>72.000000</td>\n",
              "      <td>18424.000000</td>\n",
              "      <td>4.000000</td>\n",
              "      <td>4.000000</td>\n",
              "      <td>75.000000</td>\n",
              "      <td>4.000000</td>\n",
              "      <td>2.000000</td>\n",
              "    </tr>\n",
              "  </tbody>\n",
              "</table>\n",
              "</div>"
            ],
            "text/plain": [
              "       months_loan_duration        amount  percent_of_income  \\\n",
              "count           1000.000000   1000.000000        1000.000000   \n",
              "mean              20.903000   3271.258000           2.973000   \n",
              "std               12.058814   2822.736876           1.118715   \n",
              "min                4.000000    250.000000           1.000000   \n",
              "25%               12.000000   1365.500000           2.000000   \n",
              "50%               18.000000   2319.500000           3.000000   \n",
              "75%               24.000000   3972.250000           4.000000   \n",
              "max               72.000000  18424.000000           4.000000   \n",
              "\n",
              "       years_at_residence          age  existing_loans_count   dependents  \n",
              "count         1000.000000  1000.000000           1000.000000  1000.000000  \n",
              "mean             2.845000    35.546000              1.407000     1.155000  \n",
              "std              1.103718    11.375469              0.577654     0.362086  \n",
              "min              1.000000    19.000000              1.000000     1.000000  \n",
              "25%              2.000000    27.000000              1.000000     1.000000  \n",
              "50%              3.000000    33.000000              1.000000     1.000000  \n",
              "75%              4.000000    42.000000              2.000000     1.000000  \n",
              "max              4.000000    75.000000              4.000000     2.000000  "
            ]
          },
          "metadata": {
            "tags": []
          },
          "execution_count": 41
        }
      ]
    },
    {
      "metadata": {
        "id": "kVkWCdSq4618",
        "colab_type": "code",
        "colab": {}
      },
      "cell_type": "code",
      "source": [
        "credit.drop('phone',axis = 1, inplace = True)\n",
        "credit.drop('purpose',axis = 1, inplace = True)\n",
        "credit.drop('employment_duration',axis = 1, inplace = True)\n",
        "credit.drop('checking_balance',axis = 1, inplace = True)\n",
        "credit.drop('savings_balance',axis = 1, inplace = True)"
      ],
      "execution_count": 0,
      "outputs": []
    },
    {
      "metadata": {
        "id": "afj504B5wfzk",
        "colab_type": "text"
      },
      "cell_type": "markdown",
      "source": [
        "# converting categorical features"
      ]
    },
    {
      "metadata": {
        "id": "pX-TEgOBvrtL",
        "colab_type": "code",
        "colab": {}
      },
      "cell_type": "code",
      "source": [
        "default = pd.get_dummies(credit['default'],drop_first = True)\n",
        "job = pd.get_dummies(credit['job'],drop_first = True)\n",
        "housing = pd.get_dummies(credit['housing'],drop_first = True)\n",
        "other_credit = pd.get_dummies(credit['other_credit'],drop_first = True)\n",
        "credit_history = pd.get_dummies(credit['credit_history'],drop_first = True)"
      ],
      "execution_count": 0,
      "outputs": []
    },
    {
      "metadata": {
        "id": "eYQEXbiIxUto",
        "colab_type": "code",
        "colab": {}
      },
      "cell_type": "code",
      "source": [
        "credit.drop(['default','job','housing','other_credit','credit_history'],axis = 1, inplace = True )\n",
        "credit = pd.concat([credit,default,job,housing,other_credit,credit_history],axis = 1)"
      ],
      "execution_count": 0,
      "outputs": []
    },
    {
      "metadata": {
        "id": "sxXE3i3-zZR1",
        "colab_type": "code",
        "outputId": "cd9aa367-d960-4b56-8b1d-aa1c9c373881",
        "colab": {
          "base_uri": "https://localhost:8080/",
          "height": 232
        }
      },
      "cell_type": "code",
      "source": [
        "credit.head()"
      ],
      "execution_count": 45,
      "outputs": [
        {
          "output_type": "execute_result",
          "data": {
            "text/html": [
              "<div>\n",
              "<style scoped>\n",
              "    .dataframe tbody tr th:only-of-type {\n",
              "        vertical-align: middle;\n",
              "    }\n",
              "\n",
              "    .dataframe tbody tr th {\n",
              "        vertical-align: top;\n",
              "    }\n",
              "\n",
              "    .dataframe thead th {\n",
              "        text-align: right;\n",
              "    }\n",
              "</style>\n",
              "<table border=\"1\" class=\"dataframe\">\n",
              "  <thead>\n",
              "    <tr style=\"text-align: right;\">\n",
              "      <th></th>\n",
              "      <th>months_loan_duration</th>\n",
              "      <th>amount</th>\n",
              "      <th>percent_of_income</th>\n",
              "      <th>years_at_residence</th>\n",
              "      <th>age</th>\n",
              "      <th>existing_loans_count</th>\n",
              "      <th>dependents</th>\n",
              "      <th>yes</th>\n",
              "      <th>skilled</th>\n",
              "      <th>unemployed</th>\n",
              "      <th>unskilled</th>\n",
              "      <th>own</th>\n",
              "      <th>rent</th>\n",
              "      <th>none</th>\n",
              "      <th>store</th>\n",
              "      <th>good</th>\n",
              "      <th>perfect</th>\n",
              "      <th>poor</th>\n",
              "      <th>very good</th>\n",
              "    </tr>\n",
              "  </thead>\n",
              "  <tbody>\n",
              "    <tr>\n",
              "      <th>0</th>\n",
              "      <td>6</td>\n",
              "      <td>1169</td>\n",
              "      <td>4</td>\n",
              "      <td>4</td>\n",
              "      <td>67</td>\n",
              "      <td>2</td>\n",
              "      <td>1</td>\n",
              "      <td>0</td>\n",
              "      <td>1</td>\n",
              "      <td>0</td>\n",
              "      <td>0</td>\n",
              "      <td>1</td>\n",
              "      <td>0</td>\n",
              "      <td>1</td>\n",
              "      <td>0</td>\n",
              "      <td>0</td>\n",
              "      <td>0</td>\n",
              "      <td>0</td>\n",
              "      <td>0</td>\n",
              "    </tr>\n",
              "    <tr>\n",
              "      <th>1</th>\n",
              "      <td>48</td>\n",
              "      <td>5951</td>\n",
              "      <td>2</td>\n",
              "      <td>2</td>\n",
              "      <td>22</td>\n",
              "      <td>1</td>\n",
              "      <td>1</td>\n",
              "      <td>1</td>\n",
              "      <td>1</td>\n",
              "      <td>0</td>\n",
              "      <td>0</td>\n",
              "      <td>1</td>\n",
              "      <td>0</td>\n",
              "      <td>1</td>\n",
              "      <td>0</td>\n",
              "      <td>1</td>\n",
              "      <td>0</td>\n",
              "      <td>0</td>\n",
              "      <td>0</td>\n",
              "    </tr>\n",
              "    <tr>\n",
              "      <th>2</th>\n",
              "      <td>12</td>\n",
              "      <td>2096</td>\n",
              "      <td>2</td>\n",
              "      <td>3</td>\n",
              "      <td>49</td>\n",
              "      <td>1</td>\n",
              "      <td>2</td>\n",
              "      <td>0</td>\n",
              "      <td>0</td>\n",
              "      <td>0</td>\n",
              "      <td>1</td>\n",
              "      <td>1</td>\n",
              "      <td>0</td>\n",
              "      <td>1</td>\n",
              "      <td>0</td>\n",
              "      <td>0</td>\n",
              "      <td>0</td>\n",
              "      <td>0</td>\n",
              "      <td>0</td>\n",
              "    </tr>\n",
              "    <tr>\n",
              "      <th>3</th>\n",
              "      <td>42</td>\n",
              "      <td>7882</td>\n",
              "      <td>2</td>\n",
              "      <td>4</td>\n",
              "      <td>45</td>\n",
              "      <td>1</td>\n",
              "      <td>2</td>\n",
              "      <td>0</td>\n",
              "      <td>1</td>\n",
              "      <td>0</td>\n",
              "      <td>0</td>\n",
              "      <td>0</td>\n",
              "      <td>0</td>\n",
              "      <td>1</td>\n",
              "      <td>0</td>\n",
              "      <td>1</td>\n",
              "      <td>0</td>\n",
              "      <td>0</td>\n",
              "      <td>0</td>\n",
              "    </tr>\n",
              "    <tr>\n",
              "      <th>4</th>\n",
              "      <td>24</td>\n",
              "      <td>4870</td>\n",
              "      <td>3</td>\n",
              "      <td>4</td>\n",
              "      <td>53</td>\n",
              "      <td>2</td>\n",
              "      <td>2</td>\n",
              "      <td>1</td>\n",
              "      <td>1</td>\n",
              "      <td>0</td>\n",
              "      <td>0</td>\n",
              "      <td>0</td>\n",
              "      <td>0</td>\n",
              "      <td>1</td>\n",
              "      <td>0</td>\n",
              "      <td>0</td>\n",
              "      <td>0</td>\n",
              "      <td>1</td>\n",
              "      <td>0</td>\n",
              "    </tr>\n",
              "  </tbody>\n",
              "</table>\n",
              "</div>"
            ],
            "text/plain": [
              "   months_loan_duration  amount  percent_of_income  years_at_residence  age  \\\n",
              "0                     6    1169                  4                   4   67   \n",
              "1                    48    5951                  2                   2   22   \n",
              "2                    12    2096                  2                   3   49   \n",
              "3                    42    7882                  2                   4   45   \n",
              "4                    24    4870                  3                   4   53   \n",
              "\n",
              "   existing_loans_count  dependents  yes  skilled  unemployed  unskilled  own  \\\n",
              "0                     2           1    0        1           0          0    1   \n",
              "1                     1           1    1        1           0          0    1   \n",
              "2                     1           2    0        0           0          1    1   \n",
              "3                     1           2    0        1           0          0    0   \n",
              "4                     2           2    1        1           0          0    0   \n",
              "\n",
              "   rent  none  store  good  perfect  poor  very good  \n",
              "0     0     1      0     0        0     0          0  \n",
              "1     0     1      0     1        0     0          0  \n",
              "2     0     1      0     0        0     0          0  \n",
              "3     0     1      0     1        0     0          0  \n",
              "4     0     1      0     0        0     1          0  "
            ]
          },
          "metadata": {
            "tags": []
          },
          "execution_count": 45
        }
      ]
    },
    {
      "metadata": {
        "id": "O864ODHst6k4",
        "colab_type": "text"
      },
      "cell_type": "markdown",
      "source": [
        "# Data preparation and model building"
      ]
    },
    {
      "metadata": {
        "id": "crJv_TBAtGvb",
        "colab_type": "code",
        "colab": {}
      },
      "cell_type": "code",
      "source": [
        "X = credit.iloc[:,[0,6]].values\n",
        "y = credit.iloc[:,7].values\n",
        "\n"
      ],
      "execution_count": 0,
      "outputs": []
    },
    {
      "metadata": {
        "id": "oWPjzMdNu3B6",
        "colab_type": "code",
        "colab": {}
      },
      "cell_type": "code",
      "source": [
        "# Level-0 - Base Classifiers\n",
        "clf1 = KNeighborsClassifier(n_neighbors=1)\n",
        "clf2 = RandomForestClassifier(random_state=1)\n",
        "#clf2 = DecisionTreeClassifier(random_state=1)\n",
        "clf3 = GaussianNB()\n",
        "\n",
        "# Level-1 - Meta Classifier\n",
        "lr = LogisticRegression()\n",
        "\n",
        "# Stacking Ensemble\n",
        "sclf = StackingClassifier(classifiers=[clf1, clf2, clf3], meta_classifier=lr)\n",
        "\n",
        "\n",
        "label = ['KNN', 'Random Forest', 'Naive Bayes', 'Stacking Classifier']\n",
        "#label = ['KNN', 'Decision Tree', 'Naive Bayes', 'Stacking Classifier']\n",
        "\n",
        "# List of all the classifiers\n",
        "clf_list = [clf1, clf2, clf3, sclf]\n",
        "\n"
      ],
      "execution_count": 0,
      "outputs": []
    },
    {
      "metadata": {
        "id": "oeoB8hP0vFl7",
        "colab_type": "code",
        "colab": {
          "base_uri": "https://localhost:8080/",
          "height": 854
        },
        "outputId": "a0480bf4-9f92-4946-80d8-19d2d723b8c9"
      },
      "cell_type": "code",
      "source": [
        "\n",
        "# Two empty lists to keep track of statictics (mean and standard deviation of the scores of various classifiers)\n",
        "clf_cv_mean = []\n",
        "clf_cv_std = []\n",
        "\n",
        "fig = plt.figure(figsize=(10,8))\n",
        "gs = gridspec.GridSpec(2, 2)\n",
        "grid = itertools.product([0,1],repeat=2)\n",
        "\n",
        "for clf, label, grd in zip(clf_list, label, grid):\n",
        "       \n",
        "    scores = cross_val_score(clf, X, y, cv=3, scoring='accuracy') # 3-fold cross-validation\n",
        "    print (\"Accuracy: %.2f (+/- %.2f) [%s]\" %(scores.mean(), scores.std(), label))\n",
        "    clf_cv_mean.append(scores.mean())  # mean acccuracy score for the 3-fold cross validation...save in a list\n",
        "    clf_cv_std.append(scores.std()) # standard deviation of the scores for the 3-fold cross validation...save in a list\n",
        "        \n",
        "    clf.fit(X, y)\n",
        "    ax = plt.subplot(gs[grd[0], grd[1]])\n",
        "    fig = plot_decision_regions(X=X, y=y, clf=clf)\n",
        "    plt.title(label)\n",
        "\n",
        "plt.show()"
      ],
      "execution_count": 69,
      "outputs": [
        {
          "output_type": "stream",
          "text": [
            "Accuracy: 0.59 (+/- 0.02) [KNN]\n"
          ],
          "name": "stdout"
        },
        {
          "output_type": "stream",
          "text": [
            "/usr/local/lib/python3.6/dist-packages/sklearn/ensemble/forest.py:246: FutureWarning: The default value of n_estimators will change from 10 in version 0.20 to 100 in 0.22.\n",
            "  \"10 in version 0.20 to 100 in 0.22.\", FutureWarning)\n",
            "/usr/local/lib/python3.6/dist-packages/sklearn/ensemble/forest.py:246: FutureWarning: The default value of n_estimators will change from 10 in version 0.20 to 100 in 0.22.\n",
            "  \"10 in version 0.20 to 100 in 0.22.\", FutureWarning)\n",
            "/usr/local/lib/python3.6/dist-packages/sklearn/ensemble/forest.py:246: FutureWarning: The default value of n_estimators will change from 10 in version 0.20 to 100 in 0.22.\n",
            "  \"10 in version 0.20 to 100 in 0.22.\", FutureWarning)\n",
            "/usr/local/lib/python3.6/dist-packages/sklearn/ensemble/forest.py:246: FutureWarning: The default value of n_estimators will change from 10 in version 0.20 to 100 in 0.22.\n",
            "  \"10 in version 0.20 to 100 in 0.22.\", FutureWarning)\n"
          ],
          "name": "stderr"
        },
        {
          "output_type": "stream",
          "text": [
            "Accuracy: 0.68 (+/- 0.01) [Random Forest]\n",
            "Accuracy: 0.70 (+/- 0.02) [Naive Bayes]\n"
          ],
          "name": "stdout"
        },
        {
          "output_type": "stream",
          "text": [
            "/usr/local/lib/python3.6/dist-packages/sklearn/linear_model/logistic.py:433: FutureWarning: Default solver will be changed to 'lbfgs' in 0.22. Specify a solver to silence this warning.\n",
            "  FutureWarning)\n",
            "/usr/local/lib/python3.6/dist-packages/sklearn/linear_model/logistic.py:433: FutureWarning: Default solver will be changed to 'lbfgs' in 0.22. Specify a solver to silence this warning.\n",
            "  FutureWarning)\n",
            "/usr/local/lib/python3.6/dist-packages/sklearn/linear_model/logistic.py:433: FutureWarning: Default solver will be changed to 'lbfgs' in 0.22. Specify a solver to silence this warning.\n",
            "  FutureWarning)\n",
            "/usr/local/lib/python3.6/dist-packages/sklearn/linear_model/logistic.py:433: FutureWarning: Default solver will be changed to 'lbfgs' in 0.22. Specify a solver to silence this warning.\n",
            "  FutureWarning)\n"
          ],
          "name": "stderr"
        },
        {
          "output_type": "stream",
          "text": [
            "Accuracy: 0.69 (+/- 0.02) [Stacking Classifier]\n"
          ],
          "name": "stdout"
        },
        {
          "output_type": "display_data",
          "data": {
            "image/png": "[encoded data removed]",
            "text/plain": [
              "<Figure size 720x576 with 4 Axes>"
            ]
          },
          "metadata": {
            "tags": []
          }
        }
      ]
    },
    {
      "metadata": {
        "id": "JxUmA2DNvLKE",
        "colab_type": "code",
        "outputId": "ef1c237c-99fd-4f6c-bdcf-04c09629011c",
        "colab": {
          "base_uri": "https://localhost:8080/",
          "height": 376
        }
      },
      "cell_type": "code",
      "source": [
        "# Plot classifier accuracy    \n",
        "plt.figure()\n",
        "(_, caps, _) = plt.errorbar(range(4), clf_cv_mean, yerr=clf_cv_std, c='blue', fmt='-o', capsize=5)\n",
        "for cap in caps:\n",
        "    cap.set_markeredgewidth(1)                                                                                                                                \n",
        "plt.xticks(range(4), ['KNN', 'RF', 'NB', 'Stacking'])        \n",
        "#plt.xticks(range(4), ['KNN', 'DT', 'NB', 'Stacking'])        \n",
        "\n",
        "plt.ylabel('Accuracy')\n",
        "plt.xlabel('Classifier')\n",
        "plt.title('Stacking Ensemble')\n",
        "plt.show()"
      ],
      "execution_count": 70,
      "outputs": [
        {
          "output_type": "display_data",
          "data": {
            "image/png": "[encoded data removed]",
            "text/plain": [
              "<Figure size 576x396 with 1 Axes>"
            ]
          },
          "metadata": {
            "tags": []
          }
        }
      ]
    },
    {
      "metadata": {
        "id": "Udpt6ShPvLPF",
        "colab_type": "code",
        "outputId": "c17f54fb-556a-4b68-bbc8-5a6129ff34b8",
        "colab": {
          "base_uri": "https://localhost:8080/",
          "height": 719
        }
      },
      "cell_type": "code",
      "source": [
        "#plot learning curves\n",
        "X_train, X_test, y_train, y_test = train_test_split(X, y, test_size=0.3, random_state=42)\n",
        "    \n",
        "plt.figure()\n",
        "plot_learning_curves(X_train, y_train, X_test, y_test, sclf, print_model=False, style='ggplot')\n",
        "plt.show()"
      ],
      "execution_count": 71,
      "outputs": [
        {
          "output_type": "stream",
          "text": [
            "/usr/local/lib/python3.6/dist-packages/sklearn/linear_model/logistic.py:433: FutureWarning: Default solver will be changed to 'lbfgs' in 0.22. Specify a solver to silence this warning.\n",
            "  FutureWarning)\n",
            "/usr/local/lib/python3.6/dist-packages/sklearn/linear_model/logistic.py:433: FutureWarning: Default solver will be changed to 'lbfgs' in 0.22. Specify a solver to silence this warning.\n",
            "  FutureWarning)\n",
            "/usr/local/lib/python3.6/dist-packages/sklearn/linear_model/logistic.py:433: FutureWarning: Default solver will be changed to 'lbfgs' in 0.22. Specify a solver to silence this warning.\n",
            "  FutureWarning)\n",
            "/usr/local/lib/python3.6/dist-packages/sklearn/linear_model/logistic.py:433: FutureWarning: Default solver will be changed to 'lbfgs' in 0.22. Specify a solver to silence this warning.\n",
            "  FutureWarning)\n",
            "/usr/local/lib/python3.6/dist-packages/sklearn/linear_model/logistic.py:433: FutureWarning: Default solver will be changed to 'lbfgs' in 0.22. Specify a solver to silence this warning.\n",
            "  FutureWarning)\n",
            "/usr/local/lib/python3.6/dist-packages/sklearn/linear_model/logistic.py:433: FutureWarning: Default solver will be changed to 'lbfgs' in 0.22. Specify a solver to silence this warning.\n",
            "  FutureWarning)\n",
            "/usr/local/lib/python3.6/dist-packages/sklearn/linear_model/logistic.py:433: FutureWarning: Default solver will be changed to 'lbfgs' in 0.22. Specify a solver to silence this warning.\n",
            "  FutureWarning)\n",
            "/usr/local/lib/python3.6/dist-packages/sklearn/linear_model/logistic.py:433: FutureWarning: Default solver will be changed to 'lbfgs' in 0.22. Specify a solver to silence this warning.\n",
            "  FutureWarning)\n",
            "/usr/local/lib/python3.6/dist-packages/sklearn/linear_model/logistic.py:433: FutureWarning: Default solver will be changed to 'lbfgs' in 0.22. Specify a solver to silence this warning.\n",
            "  FutureWarning)\n",
            "/usr/local/lib/python3.6/dist-packages/sklearn/linear_model/logistic.py:433: FutureWarning: Default solver will be changed to 'lbfgs' in 0.22. Specify a solver to silence this warning.\n",
            "  FutureWarning)\n"
          ],
          "name": "stderr"
        },
        {
          "output_type": "display_data",
          "data": {
            "image/png": "[encoded data removed]",
            "text/plain": [
              "<Figure size 576x396 with 1 Axes>"
            ]
          },
          "metadata": {
            "tags": []
          }
        }
      ]
    },
    {
      "metadata": {
        "id": "J_NECxHcQAnT",
        "colab_type": "text"
      },
      "cell_type": "markdown",
      "source": [
        "# **Adaboost**"
      ]
    },
    {
      "metadata": {
        "id": "A-VhR3HWR0Nx",
        "colab_type": "code",
        "colab": {}
      },
      "cell_type": "code",
      "source": [
        "import itertools\n",
        "import numpy as np\n",
        "\n",
        "#import seaborn as sns\n",
        "import matplotlib.pyplot as plt\n",
        "import matplotlib.gridspec as gridspec\n",
        "\n",
        "from sklearn import datasets\n",
        "\n",
        "from sklearn.tree import DecisionTreeClassifier\n",
        "from sklearn.neighbors import KNeighborsClassifier\n",
        "from sklearn.linear_model import LogisticRegression\n",
        "\n",
        "from sklearn.ensemble import AdaBoostClassifier\n",
        "from sklearn.model_selection import cross_val_score, train_test_split\n",
        "\n",
        "from mlxtend.plotting import plot_learning_curves\n",
        "from mlxtend.plotting import plot_decision_regions"
      ],
      "execution_count": 0,
      "outputs": []
    },
    {
      "metadata": {
        "id": "Qhb7kaJBvLHi",
        "colab_type": "code",
        "colab": {}
      },
      "cell_type": "code",
      "source": [
        "# Decision Stump as the weak base learner    \n",
        "clf = DecisionTreeClassifier(criterion='entropy', max_depth=1)\n",
        "\n",
        "# Number of base estimators\n",
        "num_est = [1, 2, 3, 10]  \n",
        "\n",
        "label = ['AdaBoost (n_est=1)', 'AdaBoost (n_est=2)', 'AdaBoost (n_est=3)', 'AdaBoost (n_est=10)']"
      ],
      "execution_count": 0,
      "outputs": []
    },
    {
      "metadata": {
        "id": "jO18p01pRYGx",
        "colab_type": "text"
      },
      "cell_type": "markdown",
      "source": [
        "**CREATE ADABOOST MODEL**"
      ]
    },
    {
      "metadata": {
        "id": "fiIVLq0KQagr",
        "colab_type": "code",
        "colab": {
          "base_uri": "https://localhost:8080/",
          "height": 551
        },
        "outputId": "8fba00bd-f915-4f71-af63-208fee4e7621"
      },
      "cell_type": "code",
      "source": [
        "\n",
        "fig = plt.figure(figsize=(10, 8))\n",
        "gs = gridspec.GridSpec(2, 2)\n",
        "grid = itertools.product([0,1],repeat=2)\n",
        "\n",
        "for n_est, label, grd in zip(num_est, label, grid):     \n",
        "    boosting = AdaBoostClassifier(base_estimator=clf, n_estimators=n_est)   \n",
        "    boosting.fit(X, y)\n",
        "    ax = plt.subplot(gs[grd[0], grd[1]])\n",
        "    fig = plot_decision_regions(X=X, y=y, clf=boosting, legend=2)\n",
        "    plt.title(label)\n",
        "\n",
        "plt.show()"
      ],
      "execution_count": 75,
      "outputs": [
        {
          "output_type": "stream",
          "text": [
            "/usr/local/lib/python3.6/dist-packages/matplotlib/contour.py:1243: UserWarning: No contour levels were found within the data range.\n",
            "  warnings.warn(\"No contour levels were found\"\n"
          ],
          "name": "stderr"
        },
        {
          "output_type": "display_data",
          "data": {
            "image/png": "[encoded data removed]",
            "text/plain": [
              "<Figure size 720x576 with 4 Axes>"
            ]
          },
          "metadata": {
            "tags": []
          }
        }
      ]
    },
    {
      "metadata": {
        "id": "z_uQcyDRRH9W",
        "colab_type": "text"
      },
      "cell_type": "markdown",
      "source": [
        "**PERFORMANCE  EVALUATION**"
      ]
    },
    {
      "metadata": {
        "id": "OCPPXa0pQ8K8",
        "colab_type": "text"
      },
      "cell_type": "markdown",
      "source": [
        "**Check Accuracy of Adaboost on 20 randomly selected number of base learners.\n",
        "**"
      ]
    },
    {
      "metadata": {
        "id": "tUoakO0zQj6f",
        "colab_type": "code",
        "colab": {}
      },
      "cell_type": "code",
      "source": [
        "#Ensemble Size\n",
        "num_est = map(int, np.linspace(1,100,20))\n",
        "\n",
        "num_list=[]\n",
        "#print(num_est)\n",
        "#print(type(num_est))\n",
        "\n",
        "bg_clf_cv_mean = []\n",
        "bg_clf_cv_std = []\n",
        "for n_est in num_est:\n",
        "    num_list.append(n_est)\n",
        "\n",
        "    ada_clf = AdaBoostClassifier(base_estimator=clf, n_estimators=n_est)\n",
        "    scores = cross_val_score(ada_clf, X, y, cv=3, scoring='accuracy')\n",
        "    \n",
        "    bg_clf_cv_mean.append(scores.mean())\n",
        "    bg_clf_cv_std.append(scores.std())"
      ],
      "execution_count": 0,
      "outputs": []
    },
    {
      "metadata": {
        "id": "6RACHXopQpO3",
        "colab_type": "code",
        "colab": {
          "base_uri": "https://localhost:8080/",
          "height": 376
        },
        "outputId": "3afacc97-1f7e-4b76-a6b3-0c4f186c03b1"
      },
      "cell_type": "code",
      "source": [
        "plt.figure()\n",
        "(_, caps, _) = plt.errorbar(num_list, bg_clf_cv_mean, yerr=bg_clf_cv_std, c='blue', fmt='-o', capsize=5)\n",
        "for cap in caps:\n",
        "    cap.set_markeredgewidth(1)                                                                                                                                \n",
        "plt.ylabel('Accuracy')\n",
        "plt.xlabel('Ensemble Size')\n",
        "plt.title('AdaBoost Ensemble')\n",
        "plt.show()"
      ],
      "execution_count": 78,
      "outputs": [
        {
          "output_type": "display_data",
          "data": {
            "image/png": "[encoded data removed]",
            "text/plain": [
              "<Figure size 576x396 with 1 Axes>"
            ]
          },
          "metadata": {
            "tags": []
          }
        }
      ]
    }
  ]
}