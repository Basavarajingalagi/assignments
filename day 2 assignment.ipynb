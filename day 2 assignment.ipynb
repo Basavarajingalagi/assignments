{
 "cells": [
  {
   "cell_type": "code",
   "execution_count": 3,
   "metadata": {},
   "outputs": [
    {
     "name": "stdout",
     "output_type": "stream",
     "text": [
      "Enter an integer from 1 to 99: 10\n",
      "guess is low\n",
      "Enter an integer from 1 to 99: 50\n",
      "guess is high\n",
      "Enter an integer from 1 to 99: 20\n",
      "guess is high\n",
      "Enter an integer from 1 to 99: 15\n",
      "guess is high\n",
      "Enter an integer from 1 to 99: 12\n",
      "guess is high\n",
      "Enter an integer from 1 to 99: 11\n",
      "you guessed it!\n"
     ]
    }
   ],
   "source": [
    "import random\n",
    "n = random.randint(1, 99)\n",
    "guess = int(input(\"Enter an integer from 1 to 99: \"))\n",
    "while n != \"guess\":\n",
    "    print\n",
    "    if guess < n:\n",
    "        print (\"guess is low\")\n",
    "        guess = int(input(\"Enter an integer from 1 to 99: \"))\n",
    "    elif guess > n:\n",
    "        print (\"guess is high\")\n",
    "        guess = int(input(\"Enter an integer from 1 to 99: \"))\n",
    "    else:\n",
    "        print (\"you guessed it!\")\n",
    "        break\n",
    "    print"
   ]
  },
  {
   "cell_type": "code",
   "execution_count": 4,
   "metadata": {},
   "outputs": [
    {
     "name": "stdout",
     "output_type": "stream",
     "text": [
      "Welcome to the Magic 8-Ball. Enter your question: will i get a job?\n",
      "Thinking...\n",
      "3...\n",
      "2...\n",
      "1...\n",
      "\n",
      "Count on it.\n",
      "Would you like to ask another question? yes/no yes\n",
      "Welcome to the Magic 8-Ball. Enter your question: when will i get married?\n",
      "Thinking...\n",
      "3...\n",
      "2...\n",
      "1...\n",
      "\n",
      "Count on it.\n",
      "Would you like to ask another question? yes/no no\n",
      "Goodbye! Thanks for playing!\n"
     ]
    },
    {
     "ename": "SystemExit",
     "evalue": "",
     "output_type": "error",
     "traceback": [
      "An exception has occurred, use %tb to see the full traceback.\n",
      "\u001b[1;31mSystemExit\u001b[0m\n"
     ]
    },
    {
     "name": "stderr",
     "output_type": "stream",
     "text": [
      "C:\\Users\\Excel\\Anaconda3\\lib\\site-packages\\IPython\\core\\interactiveshell.py:2969: UserWarning: To exit: use 'exit', 'quit', or Ctrl-D.\n",
      "  warn(\"To exit: use 'exit', 'quit', or Ctrl-D.\", stacklevel=1)\n"
     ]
    }
   ],
   "source": [
    "import random\n",
    "import time, sys\n",
    "play_again = 'yes'\n",
    "\n",
    "while play_again == 'yes':\n",
    "    str(input(\"Welcome to the Magic 8-Ball. Enter your question: \")).lower()\n",
    "    \n",
    "    #Delay output for 1 second each\n",
    "    print(\"Thinking...\")\n",
    "    time.sleep(1)\n",
    "    print(\"3...\")\n",
    "    time.sleep(1)\n",
    "    print(\"2...\")\n",
    "    time.sleep(1)\n",
    "    print(\"1...\")\n",
    "    time.sleep(1)\n",
    "    print()\n",
    "    \n",
    "    #Generate a random integer/response\n",
    "    response = random.randint(0,20)\n",
    "    \n",
    "    if response == 1:\n",
    "        print(\"Not just no, hell no!\")\n",
    "    elif response == 2:\n",
    "        print(\"Sure thing.\")\n",
    "    elif response == 3:\n",
    "        print(\"Don't count on it.\")\n",
    "    elif response == 4:\n",
    "        print(\"Maybe not.\")\n",
    "    elif response == 5:\n",
    "        print(\"Count on it.\")\n",
    "    elif response == 6:\n",
    "        print(\"The Universe says maybe.\")\n",
    "    elif response == 7:\n",
    "        print(\"I don't see why not.\")\n",
    "    elif response == 8:\n",
    "        print(\"The future looks good for you.\")\n",
    "    elif response == 9:\n",
    "        print(\"That's for sure.\")\n",
    "    elif response == 10:\n",
    "        print(\"Maybe.\")\n",
    "    elif response == 11:\n",
    "        print(\"There's a chance.\")\n",
    "    elif response == 12:\n",
    "        print(\"Certainly!\")\n",
    "    elif response == 13:\n",
    "        print(\"Keep doing what you're doing and it'll happen.\")\n",
    "    elif response == 14:\n",
    "        print(\"Not over my dead 8 Ball.\")\n",
    "    elif response == 15:\n",
    "        print(\"No.\")\n",
    "    elif response == 16:\n",
    "        print(\"Yes.\")\n",
    "    elif response == 17:\n",
    "        print(\"All depends on if you've been good for Santa this year.\")\n",
    "    elif response == 18:\n",
    "        print(\"Not in this lifetime.\")\n",
    "    elif response == 19:\n",
    "        print(\"Someday, but not today.\")\n",
    "    elif response == 20:\n",
    "        print(\"Right after you hit the lottery.\")\n",
    "    else:\n",
    "        print(\"Not a valid question!\")\n",
    "\n",
    "    play_again = str(input(\"Would you like to ask another question? yes/no \")).lower()\n",
    "    if play_again == 'no':\n",
    "        print(\"Goodbye! Thanks for playing!\")\n",
    "        sys.exit()\n"
   ]
  },
  {
   "cell_type": "code",
   "execution_count": 5,
   "metadata": {},
   "outputs": [
    {
     "name": "stdout",
     "output_type": "stream",
     "text": [
      "0\n",
      "2\n",
      "4\n",
      "6\n",
      "8\n",
      "10\n",
      "12\n",
      "14\n",
      "16\n",
      "18\n",
      "20\n",
      "22\n",
      "24\n",
      "26\n",
      "28\n",
      "30\n",
      "32\n",
      "34\n",
      "36\n",
      "38\n",
      "40\n",
      "42\n",
      "44\n",
      "46\n",
      "48\n",
      "50\n",
      "52\n",
      "54\n",
      "56\n",
      "58\n",
      "60\n",
      "62\n",
      "64\n",
      "66\n",
      "68\n",
      "70\n",
      "72\n",
      "74\n",
      "76\n",
      "78\n",
      "80\n",
      "82\n",
      "84\n",
      "86\n",
      "88\n",
      "90\n",
      "92\n",
      "94\n",
      "96\n",
      "98\n",
      "100\n"
     ]
    }
   ],
   "source": [
    "for i in range(0, 101, 2):\n",
    "\tprint(i)"
   ]
  },
  {
   "cell_type": "code",
   "execution_count": null,
   "metadata": {},
   "outputs": [],
   "source": []
  }
 ],
 "metadata": {
  "kernelspec": {
   "display_name": "Python 3",
   "language": "python",
   "name": "python3"
  },
  "language_info": {
   "codemirror_mode": {
    "name": "ipython",
    "version": 3
   },
   "file_extension": ".py",
   "mimetype": "text/x-python",
   "name": "python",
   "nbconvert_exporter": "python",
   "pygments_lexer": "ipython3",
   "version": "3.7.0"
  }
 },
 "nbformat": 4,
 "nbformat_minor": 2
}
